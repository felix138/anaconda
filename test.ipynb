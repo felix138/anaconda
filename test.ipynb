{
 "cells": [
  {
   "cell_type": "code",
   "execution_count": null,
   "metadata": {},
   "outputs": [],
   "source": [
    "import os\n",
    "from pyspark.sql import SparkSession\n",
    "\n",
    "# 配置环境变量，以便 PySpark 找到 Hadoop 和 Spark\n",
    "os.environ['HADOOP_CONF_DIR'] = '/opt/hadoop/etc/hadoop'\n",
    "os.environ['SPARK_HOME'] = '/opt/spark'\n",
    "os.environ['PYSPARK_PYTHON'] = '/opt/conda/bin/python'\n",
    "\n",
    "# 创建 SparkSession，指定 Spark Master 地址\n",
    "spark = SparkSession.builder \\\n",
    "    .appName(\"PySpark in Docker\") \\\n",
    "    .master(\"spark://spark-master:7077\") \\\n",
    "    .config(\"spark.hadoop.fs.defaultFS\", \"hdfs://namenode:9000\") \\\n",
    "    .getOrCreate()\n",
    "\n",
    "# 检查 Spark 集群状态\n",
    "spark.sparkContext._jsc.sc().uiWebUrl()"
   ]
  },
  {
   "cell_type": "markdown",
   "id": "ea48254c",
   "metadata": {},
   "source": [
    "WARNING: An illegal reflective access operation has occurred\n",
    "WARNING: Illegal reflective access by org.apache.spark.unsafe.Platform (file:/opt/spark/jars/spark-unsafe_2.12-3.0.0.jar) to constructor java.nio.DirectByteBuffer(long,int)\n",
    "WARNING: Please consider reporting this to the maintainers of org.apache.spark.unsafe.Platform\n",
    "WARNING: Use --illegal-access=warn to enable warnings of further illegal reflective access operations\n",
    "WARNING: All illegal access operations will be denied in a future release\n",
    "2024-09-17 14:22:32,939 WARN util.NativeCodeLoader: Unable to load native-hadoop library for your platform... using builtin-java classes where applicable\n",
    "Setting default log level to \"WARN\".\n",
    "To adjust logging level use sc.setLogLevel(newLevel). For SparkR, use setLogLevel(newLevel).\n",
    "JavaObject id=o34"
   ]
  },
  {
   "cell_type": "code",
   "execution_count": null,
   "id": "cc47cd3c",
   "metadata": {},
   "outputs": [],
   "source": [
    "\n",
    "import pymysql\n",
    "\n",
    "# 连接到 MySQL 容器\n",
    "connection = pymysql.connect(\n",
    "    host='mysql',  # 使用 MySQL 容器的名称\n",
    "    user='my_user',\n",
    "    password='root',\n",
    "    database='my_database',\n",
    "    port=3306\n",
    ")\n",
    "\n",
    "# 创建游标并执行查询\n",
    "cursor = connection.cursor()\n",
    "cursor.execute(\"SHOW TABLES;\")\n",
    "tables = cursor.fetchall()\n",
    "print(tables)\n",
    "\n",
    "# 关闭连接\n",
    "cursor.close()\n",
    "connection.close()"
   ]
  },
  {
   "cell_type": "markdown",
   "id": "cadb3c53",
   "metadata": {},
   "source": [
    "('after_sales_service',), ('billing_info',), ('customer_info',), ('device_info',), ('installation_info',), ('order_info',), ('payment_info',), ('service_info',), ('user_traffic',))"
   ]
  }
 ],
 "metadata": {
  "language_info": {
   "name": "python"
  }
 },
 "nbformat": 4,
 "nbformat_minor": 5
}
