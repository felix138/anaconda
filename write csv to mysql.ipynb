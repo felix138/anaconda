{
 "cells": [
  {
   "cell_type": "code",
   "execution_count": 1,
   "id": "64d00ba4-810c-427d-8c0b-548d3f730c4b",
   "metadata": {},
   "outputs": [
    {
     "name": "stderr",
     "output_type": "stream",
     "text": [
      "WARNING: An illegal reflective access operation has occurred\n",
      "WARNING: Illegal reflective access by org.apache.spark.unsafe.Platform (file:/opt/spark/jars/spark-unsafe_2.12-3.0.0.jar) to constructor java.nio.DirectByteBuffer(long,int)\n",
      "WARNING: Please consider reporting this to the maintainers of org.apache.spark.unsafe.Platform\n",
      "WARNING: Use --illegal-access=warn to enable warnings of further illegal reflective access operations\n",
      "WARNING: All illegal access operations will be denied in a future release\n",
      "2024-09-18 22:02:50,572 WARN util.NativeCodeLoader: Unable to load native-hadoop library for your platform... using builtin-java classes where applicable\n",
      "Setting default log level to \"WARN\".\n",
      "To adjust logging level use sc.setLogLevel(newLevel). For SparkR, use setLogLevel(newLevel).\n"
     ]
    },
    {
     "name": "stdout",
     "output_type": "stream",
     "text": [
      "Spark application is running locally\n",
      "/opt/spark/jars/mysql-connector-java-8.0.30.jar\n"
     ]
    }
   ],
   "source": [
    "import os \n",
    "import socket\n",
    "from pyspark.sql import SparkSession,SQLContext\n",
    "from pyspark import SparkConf,SparkContext\n",
    "\n",
    "#setup spark configrations\n",
    "conf = (SparkConf().setAppName(\"write csv to mysql\")\n",
    "        .setMaster(\"spark://spark-master:7077\")\n",
    "        .set(\"spark.executor.memory\", \"8g\")  \n",
    "        .set(\"spark.driver.memory\", \"8g\")   \n",
    "        .set(\"spark.hadoop.fs.defaultFS\", \"hdfs://namenode:9000\")\n",
    "        .set(\"spark.jars\",\"/opt/spark/jars/mysql-connector-java-8.0.30.jar\")\n",
    "       )\n",
    "\n",
    "spark = SparkSession.builder.config(conf=conf).getOrCreate()\n",
    "sc = spark.sparkContext\n",
    "\n",
    "print(\"Spark application is running locally\")\n",
    "print(spark.sparkContext.getConf().get(\"spark.jars\"))\n"
   ]
  },
  {
   "cell_type": "code",
   "execution_count": 2,
   "id": "9cb41790-5c56-4d74-9510-a33e7989c727",
   "metadata": {
    "scrolled": true
   },
   "outputs": [
    {
     "name": "stdout",
     "output_type": "stream",
     "text": [
      "Absolute file path: /mnt/data/data/customer_info.csv\n",
      "Host address: 172.19.0.14\n"
     ]
    },
    {
     "name": "stderr",
     "output_type": "stream",
     "text": [
      "[Stage 1:>                                                          (0 + 1) / 1]\r"
     ]
    },
    {
     "name": "stdout",
     "output_type": "stream",
     "text": [
      "+-----------+------------+------------+--------------------+---------+------------------+-------------------+--------+-------------------+-------------------+\n",
      "|        _c0|         _c1|         _c2|                 _c3|      _c4|               _c5|                _c6|     _c7|                _c8|                _c9|\n",
      "+-----------+------------+------------+--------------------+---------+------------------+-------------------+--------+-------------------+-------------------+\n",
      "|customer_id|        name|phone_number|               email|  address|    id_card_number|  registration_date|  status|         created_at|         updated_at|\n",
      "|  CUST_0001|Mona Solberg| +4792486972|customer_1@exampl...|Address_1|960169599320495002|2023-08-05 06:07:46|Inactive|2023-08-05 06:07:46|2023-08-05 06:07:46|\n",
      "|  CUST_0002|   Erik Berg| +4714357923|customer_2@exampl...|Address_2|890342987726267449|2021-04-10 14:26:01|Inactive|2021-04-10 14:26:01|2021-04-10 14:26:01|\n",
      "|  CUST_0003|   Erik Berg| +4722304115|customer_3@exampl...|Address_3|248359464321612103|2022-11-28 05:25:28|  Active|2022-11-28 05:25:28|2022-11-28 05:25:28|\n",
      "|  CUST_0004|Mona Solberg| +4783868647|customer_4@exampl...|Address_4|511935004927572176|2020-09-15 02:42:20|  Active|2020-09-15 02:42:20|2020-09-15 02:42:20|\n",
      "+-----------+------------+------------+--------------------+---------+------------------+-------------------+--------+-------------------+-------------------+\n",
      "only showing top 5 rows\n",
      "\n"
     ]
    },
    {
     "name": "stderr",
     "output_type": "stream",
     "text": [
      "                                                                                \r"
     ]
    }
   ],
   "source": [
    "local_file_path = \"./customer_info.csv\"\n",
    "# Get the absolute path of the local file\n",
    "absolute_path = os.path.abspath(local_file_path)\n",
    "\n",
    "# Get the host address (IP)\n",
    "host_address = socket.gethostbyname(socket.gethostname())\n",
    "# Print the absolute path and host address\n",
    "print(f\"Absolute file path: {absolute_path}\")\n",
    "print(f\"Host address: {host_address}\")\n",
    "\n",
    "\n",
    "#read file to dataframe\n",
    "df = spark.read.csv(\"file:///mnt/data/data/customer_info.csv\", header=False, inferSchema=True)\n",
    "df = df.coalesce(1)  # Reduce to 1 partition for small data \n",
    "df.show(5)"
   ]
  },
  {
   "cell_type": "code",
   "execution_count": 5,
   "id": "8bdac0ea-fc94-4cce-b0e7-8e55e48c76cf",
   "metadata": {},
   "outputs": [
    {
     "name": "stdout",
     "output_type": "stream",
     "text": [
      "+---------+------------+-----------+--------------------+---------+------------------+-------------------+--------+-------------------+-------------------+\n",
      "|      _c0|         _c1|        _c2|                 _c3|      _c4|               _c5|                _c6|     _c7|                _c8|                _c9|\n",
      "+---------+------------+-----------+--------------------+---------+------------------+-------------------+--------+-------------------+-------------------+\n",
      "|CUST_0001|Mona Solberg|+4792486972|customer_1@exampl...|Address_1|960169599320495002|2023-08-05 06:07:46|Inactive|2023-08-05 06:07:46|2023-08-05 06:07:46|\n",
      "+---------+------------+-----------+--------------------+---------+------------------+-------------------+--------+-------------------+-------------------+\n",
      "only showing top 1 row\n",
      "\n"
     ]
    }
   ],
   "source": [
    "df_filtered = df.filter(df[\"_c0\"] != \"customer_id\")\n",
    "df_filtered.show(1)"
   ]
  },
  {
   "cell_type": "code",
   "execution_count": 7,
   "id": "9857ff0e-3c9a-4f79-986d-9bd237462da9",
   "metadata": {},
   "outputs": [
    {
     "name": "stdout",
     "output_type": "stream",
     "text": [
      "+-----------+-------------+------------+--------------------+---------+------------------+-------------------+--------+-------------------+-------------------+\n",
      "|customer_id|         name|phone_number|               email|  address|    id_card_number|  registration_date|  status|         created_at|         updated_at|\n",
      "+-----------+-------------+------------+--------------------+---------+------------------+-------------------+--------+-------------------+-------------------+\n",
      "|  CUST_0001| Mona Solberg| +4792486972|customer_1@exampl...|Address_1|960169599320495002|2023-08-05 06:07:46|Inactive|2023-08-05 06:07:46|2023-08-05 06:07:46|\n",
      "|  CUST_0002|    Erik Berg| +4714357923|customer_2@exampl...|Address_2|890342987726267449|2021-04-10 14:26:01|Inactive|2021-04-10 14:26:01|2021-04-10 14:26:01|\n",
      "|  CUST_0003|    Erik Berg| +4722304115|customer_3@exampl...|Address_3|248359464321612103|2022-11-28 05:25:28|  Active|2022-11-28 05:25:28|2022-11-28 05:25:28|\n",
      "|  CUST_0004| Mona Solberg| +4783868647|customer_4@exampl...|Address_4|511935004927572176|2020-09-15 02:42:20|  Active|2020-09-15 02:42:20|2020-09-15 02:42:20|\n",
      "|  CUST_0005|Kari Nordmann| +4783362526|customer_5@exampl...|Address_5|609317661437474579|2022-01-20 10:15:27|  Active|2022-01-20 10:15:27|2022-01-20 10:15:27|\n",
      "+-----------+-------------+------------+--------------------+---------+------------------+-------------------+--------+-------------------+-------------------+\n",
      "only showing top 5 rows\n",
      "\n"
     ]
    }
   ],
   "source": [
    "mysql_url = \"jdbc:mysql://mysql:3306/my_database\"\n",
    "# connect to mysql \n",
    "mysql_properties = {\n",
    "    \"user\": \"my_user\",\n",
    "    \"password\": \"root\",\n",
    "    \"driver\": \"com.mysql.cj.jdbc.Driver\"\n",
    "}\n",
    "\n",
    "df_filtered = df_filtered.toDF(\"customer_id\", \"name\", \"phone_number\", \"email\", \"address\", \n",
    "                               \"id_card_number\", \"registration_date\", \"status\", \"created_at\", \"updated_at\")\n",
    "\n",
    "# dataframe write data to mysql/\n",
    "df_filtered.write.jdbc(url=mysql_url,table=\"customer_info\",mode= \"append\",properties=mysql_properties)\n",
    "df_mysql = spark.read.jdbc(url=mysql_url, table=\"customer_info\", properties=mysql_properties)\n",
    "df_mysql.show(5)\n",
    "\n"
   ]
  },
  {
   "cell_type": "code",
   "execution_count": null,
   "id": "426fe38a-64ed-497c-89cd-5c513b63dbd3",
   "metadata": {},
   "outputs": [],
   "source": []
  }
 ],
 "metadata": {
  "kernelspec": {
   "display_name": "Python 3 (ipykernel)",
   "language": "python",
   "name": "python3"
  },
  "language_info": {
   "codemirror_mode": {
    "name": "ipython",
    "version": 3
   },
   "file_extension": ".py",
   "mimetype": "text/x-python",
   "name": "python",
   "nbconvert_exporter": "python",
   "pygments_lexer": "ipython3",
   "version": "3.9.19"
  }
 },
 "nbformat": 4,
 "nbformat_minor": 5
}
